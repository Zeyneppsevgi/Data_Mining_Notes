{
 "cells": [
  {
   "cell_type": "markdown",
   "id": "3fbc3276-56b6-46a5-bca4-20b713055380",
   "metadata": {},
   "source": [
    "## Olasılık Dağılımları (Probability Distributions)"
   ]
  },
  {
   "cell_type": "markdown",
   "id": "a7b7eda5-6681-462d-840f-08ad52667e46",
   "metadata": {},
   "source": [
    "Bir örneklemden altta yatan popülasyona çıkarım yapabilmek için olasılık teorisi modellerine ihtiyaç vardır. Bu tür modellerin temeli olasılık dağılımlarıdır. Bu durumda, çıkarımsal (parametrik) istatistiğin amacı, verilen verilerden varsayılan olasılık dağılımlarının bilinmeyen parametrelerini tahmin etmektir.\n",
    "\n",
    "- Bernoulli distribution Bernoulli (p)\n",
    "- Binomial distribution Binom (m, p)\n",
    "- Hypergeometric distribution Hyper (m, n, k)\n",
    "- Negative binomial distribution Nbinom (r, p) Special cases: Pascal distribution, Pólya distribution, geometric distribution\n",
    "- Poisson distribution Pois (λ)\n",
    "- Normal distribution Norm (μ,σ2)\n",
    "- Log-normal distribution Lnorm(μ, σ)\n",
    "- Gamma distribution Gamma (σ, α) Special cases: Exponential distribution, Erlang distribution, χ2 distribution\n",
    "- Weibull distribution Weibull (σ, α)\n",
    "- Distributions arising in connection with normal distributions: χ2 distribution Chisq (n), t distribution t (n), F distribution F (m, n)"
   ]
  },
  {
   "cell_type": "markdown",
   "id": "5eca0864-ed69-4cf4-a5c4-f6f07dc2e485",
   "metadata": {},
   "source": [
    "### Discrete Distributions (Ayrık Dağılımlar)"
   ]
  },
  {
   "cell_type": "markdown",
   "id": "42a32ab3-d291-4d7a-92e2-f66f7e568f13",
   "metadata": {},
   "source": [
    "Doğal sayılar uzayında değerlerini belirli olasılıklarla alan bir X fonksiyonunu ele alıyoruz. Böyle bir X fonksiyonuna ayrık rastgele değişken denir. Bir rastgele değişkenin değerlerine gerçekleşmeler(realisations) denir."
   ]
  },
  {
   "cell_type": "markdown",
   "id": "048fc36c-a189-4e3d-b78f-6b41021e5356",
   "metadata": {},
   "source": [
    "X'in tüm olası 𝑘 ∈ ℕ değerlerinin 𝑷 (𝑿 = 𝒌) olasılığını belirterek bir X rastgele değişkeninin ayrık olasılık dağılımını veya ayrık dağılımını benzersiz bir şekilde tanımlayabiliriz."
   ]
  },
  {
   "cell_type": "markdown",
   "id": "816cf4db",
   "metadata": {},
   "source": [
    "yokluk hipotezi h0 "
   ]
  },
  {
   "cell_type": "markdown",
   "id": "a246dcec",
   "metadata": {},
   "source": [
    "alternatif hipotez h1"
   ]
  },
  {
   "cell_type": "code",
   "execution_count": 2,
   "id": "400779f8",
   "metadata": {},
   "outputs": [],
   "source": [
    "import numpy as np\n",
    "x = np.random.normal(loc = 0.5, scale=1, size=20)#standard sapması 1 ortalamsı 0.5 olan 20 tane veri var\n",
    "y = np.random.normal(loc = 1.5, scale=1, size=20)\n",
    "#loc ortalama değeri bulur dağılımın \n",
    "#scale: Standart sapma değeri. Bu, dağılımın genişliğini belirtir.\n",
    "#size: Üretilecek rastgele sayıların sayısı.\n"
   ]
  },
  {
   "cell_type": "code",
   "execution_count": 3,
   "id": "2ce31c47",
   "metadata": {},
   "outputs": [
    {
     "data": {
      "text/plain": [
       "Ttest_indResult(statistic=-3.50421158944244, pvalue=0.001190766051449301)"
      ]
     },
     "execution_count": 3,
     "metadata": {},
     "output_type": "execute_result"
    }
   ],
   "source": [
    "import scipy.stats as sts\n",
    "sts.ttest_ind(x, y, equal_var= True)"
   ]
  },
  {
   "cell_type": "code",
   "execution_count": 4,
   "id": "1afb97bd",
   "metadata": {},
   "outputs": [],
   "source": [
    "#conda install -c conda-forge pingouin"
   ]
  },
  {
   "cell_type": "code",
   "execution_count": 11,
   "id": "cba117fd",
   "metadata": {},
   "outputs": [
    {
     "data": {
      "text/plain": [
       "ShapiroResult(statistic=0.8460185527801514, pvalue=0.004574588034301996)"
      ]
     },
     "execution_count": 11,
     "metadata": {},
     "output_type": "execute_result"
    }
   ],
   "source": [
    "import scipy.stats as sts\n",
    "sts.shapiro(x)\n",
    "sts.shapiro(y)\n",
    "#herkes p ye bakıp karşılaştıracağım  0,05 ile karşılaştır bu veri \n",
    "#normal dağılmaktadır p değerine göre bakıcz ve küçükse h0 büyükse değil "
   ]
  },
  {
   "cell_type": "markdown",
   "id": "26c3be75",
   "metadata": {},
   "source": [
    "normal dağılıma uyup uymadığını sağlayan test Shapiro-wilk test  "
   ]
  },
  {
   "cell_type": "code",
   "execution_count": 12,
   "id": "d2aff1fe",
   "metadata": {},
   "outputs": [
    {
     "ename": "SyntaxError",
     "evalue": "cannot assign to function call (3409715146.py, line 2)",
     "output_type": "error",
     "traceback": [
      "\u001b[0;36m  File \u001b[0;32m\"/var/folders/lx/f722_4l92sl53dnpd1g01zkw0000gn/T/ipykernel_50279/3409715146.py\"\u001b[0;36m, line \u001b[0;32m2\u001b[0m\n\u001b[0;31m    lilliefors(x, pvalmethod) = \"approx\")\u001b[0m\n\u001b[0m    ^\u001b[0m\n\u001b[0;31mSyntaxError\u001b[0m\u001b[0;31m:\u001b[0m cannot assign to function call\n"
     ]
    }
   ],
   "source": [
    "from statsmodels.stats.diagnostic import lilliefors\n",
    "lilliefors(x, pvalmethod) = \"approx\")\n",
    "lilliefors(y, pvalmethod) = \"approx\")"
   ]
  },
  {
   "cell_type": "code",
   "execution_count": 13,
   "id": "dc67dd07",
   "metadata": {},
   "outputs": [
    {
     "ename": "ModuleNotFoundError",
     "evalue": "No module named 'sfrancia'",
     "output_type": "error",
     "traceback": [
      "\u001b[0;31m---------------------------------------------------------------------------\u001b[0m",
      "\u001b[0;31mModuleNotFoundError\u001b[0m                       Traceback (most recent call last)",
      "\u001b[0;32m/var/folders/lx/f722_4l92sl53dnpd1g01zkw0000gn/T/ipykernel_50279/623907836.py\u001b[0m in \u001b[0;36m<module>\u001b[0;34m\u001b[0m\n\u001b[0;32m----> 1\u001b[0;31m \u001b[0;32mimport\u001b[0m \u001b[0msfrancia\u001b[0m \u001b[0;32mas\u001b[0m \u001b[0msf\u001b[0m\u001b[0;34m\u001b[0m\u001b[0;34m\u001b[0m\u001b[0m\n\u001b[0m\u001b[1;32m      2\u001b[0m \u001b[0msf\u001b[0m\u001b[0;34m.\u001b[0m\u001b[0mshapiroFrancia\u001b[0m\u001b[0;34m(\u001b[0m\u001b[0mx\u001b[0m\u001b[0;34m)\u001b[0m\u001b[0;34m\u001b[0m\u001b[0;34m\u001b[0m\u001b[0m\n",
      "\u001b[0;31mModuleNotFoundError\u001b[0m: No module named 'sfrancia'"
     ]
    }
   ],
   "source": [
    "import sfrancia as sf\n",
    "sf.shapiroFrancia(x)\n",
    "s"
   ]
  },
  {
   "cell_type": "markdown",
   "id": "90f0472a",
   "metadata": {},
   "source": [
    "bu 3 testi yaparak normal dağılıma uyup uymadığını test edebiliriz lili shapirofransica ve shapiro ile"
   ]
  },
  {
   "cell_type": "code",
   "execution_count": 14,
   "id": "58c9d4a1",
   "metadata": {},
   "outputs": [
    {
     "data": {
      "text/html": [
       "<div>\n",
       "<style scoped>\n",
       "    .dataframe tbody tr th:only-of-type {\n",
       "        vertical-align: middle;\n",
       "    }\n",
       "\n",
       "    .dataframe tbody tr th {\n",
       "        vertical-align: top;\n",
       "    }\n",
       "\n",
       "    .dataframe thead th {\n",
       "        text-align: right;\n",
       "    }\n",
       "</style>\n",
       "<table border=\"1\" class=\"dataframe\">\n",
       "  <thead>\n",
       "    <tr style=\"text-align: right;\">\n",
       "      <th></th>\n",
       "      <th>ID</th>\n",
       "      <th>sex</th>\n",
       "      <th>age</th>\n",
       "      <th>surgery</th>\n",
       "      <th>heart rate</th>\n",
       "      <th>temperature</th>\n",
       "      <th>bilirubin</th>\n",
       "      <th>SAPS II</th>\n",
       "      <th>liver failure</th>\n",
       "      <th>LOS</th>\n",
       "      <th>outcome</th>\n",
       "    </tr>\n",
       "  </thead>\n",
       "  <tbody>\n",
       "    <tr>\n",
       "      <th>0</th>\n",
       "      <td>1</td>\n",
       "      <td>female</td>\n",
       "      <td>76</td>\n",
       "      <td>other</td>\n",
       "      <td>98.0</td>\n",
       "      <td>36.5</td>\n",
       "      <td>6.512142</td>\n",
       "      <td>57</td>\n",
       "      <td>0</td>\n",
       "      <td>1</td>\n",
       "      <td>died</td>\n",
       "    </tr>\n",
       "    <tr>\n",
       "      <th>1</th>\n",
       "      <td>2</td>\n",
       "      <td>female</td>\n",
       "      <td>60</td>\n",
       "      <td>gastrointestinal</td>\n",
       "      <td>80.0</td>\n",
       "      <td>38.1</td>\n",
       "      <td>14.523197</td>\n",
       "      <td>52</td>\n",
       "      <td>0</td>\n",
       "      <td>2</td>\n",
       "      <td>home</td>\n",
       "    </tr>\n",
       "    <tr>\n",
       "      <th>2</th>\n",
       "      <td>3</td>\n",
       "      <td>male</td>\n",
       "      <td>66</td>\n",
       "      <td>cardiothoracic</td>\n",
       "      <td>99.6</td>\n",
       "      <td>37.4</td>\n",
       "      <td>22.972480</td>\n",
       "      <td>57</td>\n",
       "      <td>0</td>\n",
       "      <td>1</td>\n",
       "      <td>secondary care/rehab</td>\n",
       "    </tr>\n",
       "    <tr>\n",
       "      <th>3</th>\n",
       "      <td>4</td>\n",
       "      <td>male</td>\n",
       "      <td>74</td>\n",
       "      <td>other</td>\n",
       "      <td>110.0</td>\n",
       "      <td>39.1</td>\n",
       "      <td>19.299346</td>\n",
       "      <td>45</td>\n",
       "      <td>0</td>\n",
       "      <td>2</td>\n",
       "      <td>home</td>\n",
       "    </tr>\n",
       "    <tr>\n",
       "      <th>4</th>\n",
       "      <td>5</td>\n",
       "      <td>female</td>\n",
       "      <td>68</td>\n",
       "      <td>other</td>\n",
       "      <td>94.1</td>\n",
       "      <td>38.5</td>\n",
       "      <td>39.076485</td>\n",
       "      <td>49</td>\n",
       "      <td>0</td>\n",
       "      <td>1</td>\n",
       "      <td>home</td>\n",
       "    </tr>\n",
       "    <tr>\n",
       "      <th>...</th>\n",
       "      <td>...</td>\n",
       "      <td>...</td>\n",
       "      <td>...</td>\n",
       "      <td>...</td>\n",
       "      <td>...</td>\n",
       "      <td>...</td>\n",
       "      <td>...</td>\n",
       "      <td>...</td>\n",
       "      <td>...</td>\n",
       "      <td>...</td>\n",
       "      <td>...</td>\n",
       "    </tr>\n",
       "    <tr>\n",
       "      <th>495</th>\n",
       "      <td>496</td>\n",
       "      <td>male</td>\n",
       "      <td>62</td>\n",
       "      <td>cardiothoracic</td>\n",
       "      <td>118.0</td>\n",
       "      <td>37.3</td>\n",
       "      <td>13.234537</td>\n",
       "      <td>33</td>\n",
       "      <td>0</td>\n",
       "      <td>1</td>\n",
       "      <td>secondary care/rehab</td>\n",
       "    </tr>\n",
       "    <tr>\n",
       "      <th>496</th>\n",
       "      <td>497</td>\n",
       "      <td>male</td>\n",
       "      <td>67</td>\n",
       "      <td>cardiothoracic</td>\n",
       "      <td>115.0</td>\n",
       "      <td>38.0</td>\n",
       "      <td>10.740772</td>\n",
       "      <td>56</td>\n",
       "      <td>0</td>\n",
       "      <td>1</td>\n",
       "      <td>died</td>\n",
       "    </tr>\n",
       "    <tr>\n",
       "      <th>497</th>\n",
       "      <td>498</td>\n",
       "      <td>female</td>\n",
       "      <td>53</td>\n",
       "      <td>cardiothoracic</td>\n",
       "      <td>131.0</td>\n",
       "      <td>37.9</td>\n",
       "      <td>14.131188</td>\n",
       "      <td>38</td>\n",
       "      <td>0</td>\n",
       "      <td>3</td>\n",
       "      <td>secondary care/rehab</td>\n",
       "    </tr>\n",
       "    <tr>\n",
       "      <th>498</th>\n",
       "      <td>499</td>\n",
       "      <td>male</td>\n",
       "      <td>68</td>\n",
       "      <td>other</td>\n",
       "      <td>86.9</td>\n",
       "      <td>36.0</td>\n",
       "      <td>9.596478</td>\n",
       "      <td>66</td>\n",
       "      <td>0</td>\n",
       "      <td>2</td>\n",
       "      <td>home</td>\n",
       "    </tr>\n",
       "    <tr>\n",
       "      <th>499</th>\n",
       "      <td>500</td>\n",
       "      <td>male</td>\n",
       "      <td>75</td>\n",
       "      <td>cardiothoracic</td>\n",
       "      <td>92.0</td>\n",
       "      <td>37.6</td>\n",
       "      <td>11.660875</td>\n",
       "      <td>25</td>\n",
       "      <td>0</td>\n",
       "      <td>1</td>\n",
       "      <td>secondary care/rehab</td>\n",
       "    </tr>\n",
       "  </tbody>\n",
       "</table>\n",
       "<p>500 rows × 11 columns</p>\n",
       "</div>"
      ],
      "text/plain": [
       "      ID     sex  age           surgery  heart rate  temperature  bilirubin  \\\n",
       "0      1  female   76             other        98.0         36.5   6.512142   \n",
       "1      2  female   60  gastrointestinal        80.0         38.1  14.523197   \n",
       "2      3    male   66    cardiothoracic        99.6         37.4  22.972480   \n",
       "3      4    male   74             other       110.0         39.1  19.299346   \n",
       "4      5  female   68             other        94.1         38.5  39.076485   \n",
       "..   ...     ...  ...               ...         ...          ...        ...   \n",
       "495  496    male   62    cardiothoracic       118.0         37.3  13.234537   \n",
       "496  497    male   67    cardiothoracic       115.0         38.0  10.740772   \n",
       "497  498  female   53    cardiothoracic       131.0         37.9  14.131188   \n",
       "498  499    male   68             other        86.9         36.0   9.596478   \n",
       "499  500    male   75    cardiothoracic        92.0         37.6  11.660875   \n",
       "\n",
       "     SAPS II  liver failure  LOS               outcome  \n",
       "0         57              0    1                  died  \n",
       "1         52              0    2                  home  \n",
       "2         57              0    1  secondary care/rehab  \n",
       "3         45              0    2                  home  \n",
       "4         49              0    1                  home  \n",
       "..       ...            ...  ...                   ...  \n",
       "495       33              0    1  secondary care/rehab  \n",
       "496       56              0    1                  died  \n",
       "497       38              0    3  secondary care/rehab  \n",
       "498       66              0    2                  home  \n",
       "499       25              0    1  secondary care/rehab  \n",
       "\n",
       "[500 rows x 11 columns]"
      ]
     },
     "execution_count": 14,
     "metadata": {},
     "output_type": "execute_result"
    }
   ],
   "source": [
    "import pandas as pd \n",
    "icu = pd.read_csv(\"ICUData.csv\")\n",
    "icu"
   ]
  },
  {
   "cell_type": "code",
   "execution_count": 15,
   "id": "4aa402f8",
   "metadata": {},
   "outputs": [
    {
     "data": {
      "text/plain": [
       "Ttest_1sampResult(statistic=4.197348728151364, pvalue=1.5993464725586302e-05)"
      ]
     },
     "execution_count": 15,
     "metadata": {},
     "output_type": "execute_result"
    }
   ],
   "source": [
    "from scipy import stats\n",
    "data = icu.temperature.drop(397)\n",
    "stats.ttest_1samp(data, popmean=37.5, alternative= \"greater\")"
   ]
  },
  {
   "cell_type": "code",
   "execution_count": 19,
   "id": "a54a78dc",
   "metadata": {},
   "outputs": [
    {
     "data": {
      "text/plain": [
       "ShapiroResult(statistic=0.9879989624023438, pvalue=0.008829893544316292)"
      ]
     },
     "execution_count": 19,
     "metadata": {},
     "output_type": "execute_result"
    }
   ],
   "source": [
    " sts.shapiro(icu[icu.sex == \"female\"].temperature)\n",
    "sts.shapiro(icu.drop(397)[icu.drop(397).sex == \"male\"].temperature) #aykırıyı çıkardık ve h0 i reddediyo \n",
    "#normal dağılma ayrıkırı"
   ]
  },
  {
   "cell_type": "markdown",
   "id": "e72ca257",
   "metadata": {},
   "source": [
    "paramaterik olmayan normal dağılmayan demektir.\n",
    "normal dağılmıyorsa medysnları karşılaştırmak istiyordak wilcoxon signed rank ı kullanıcaz"
   ]
  },
  {
   "cell_type": "markdown",
   "id": "1b4770ac",
   "metadata": {},
   "source": [
    "iki veri seti arasındaki ortalamalar arasında fark yoktur bu h0 değilse h1"
   ]
  },
  {
   "cell_type": "code",
   "execution_count": null,
   "id": "7e3a1315",
   "metadata": {},
   "outputs": [],
   "source": []
  },
  {
   "cell_type": "code",
   "execution_count": null,
   "id": "f4341454",
   "metadata": {},
   "outputs": [],
   "source": []
  },
  {
   "cell_type": "code",
   "execution_count": null,
   "id": "607dd812",
   "metadata": {},
   "outputs": [],
   "source": []
  },
  {
   "cell_type": "code",
   "execution_count": null,
   "id": "b51b2ff1",
   "metadata": {},
   "outputs": [],
   "source": []
  },
  {
   "cell_type": "code",
   "execution_count": null,
   "id": "b968ebfe",
   "metadata": {},
   "outputs": [],
   "source": []
  }
 ],
 "metadata": {
  "kernelspec": {
   "display_name": "Python 3 (ipykernel)",
   "language": "python",
   "name": "python3"
  },
  "language_info": {
   "codemirror_mode": {
    "name": "ipython",
    "version": 3
   },
   "file_extension": ".py",
   "mimetype": "text/x-python",
   "name": "python",
   "nbconvert_exporter": "python",
   "pygments_lexer": "ipython3",
   "version": "3.9.12"
  }
 },
 "nbformat": 4,
 "nbformat_minor": 5
}
