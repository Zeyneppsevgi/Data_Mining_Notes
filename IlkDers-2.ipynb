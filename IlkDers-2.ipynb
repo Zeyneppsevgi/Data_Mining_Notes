{
 "cells": [
  {
   "cell_type": "code",
   "execution_count": 1,
   "id": "74b512f0",
   "metadata": {},
   "outputs": [
    {
     "name": "stdout",
     "output_type": "stream",
     "text": [
      "Hello World!\n"
     ]
    }
   ],
   "source": [
    "print(\"Hello World!\")"
   ]
  },
  {
   "cell_type": "code",
   "execution_count": 2,
   "id": "a4e7749c",
   "metadata": {},
   "outputs": [
    {
     "name": "stdout",
     "output_type": "stream",
     "text": [
      "Hello World!! Hello Java\n"
     ]
    }
   ],
   "source": [
    "print(\"Hello World!!\", \"Hello Java\")"
   ]
  },
  {
   "cell_type": "code",
   "execution_count": 3,
   "id": "90daef03",
   "metadata": {},
   "outputs": [
    {
     "name": "stdout",
     "output_type": "stream",
     "text": [
      "Hello World!!&Hello Java\n"
     ]
    }
   ],
   "source": [
    "print(\"Hello World!!\", \"Hello Java\", sep=\"&\")"
   ]
  },
  {
   "cell_type": "code",
   "execution_count": 4,
   "id": "cdfc5e01",
   "metadata": {},
   "outputs": [
    {
     "name": "stdout",
     "output_type": "stream",
     "text": [
      "Hello World\n",
      "Hello Java\n"
     ]
    }
   ],
   "source": [
    "print(\"Hello World\")\n",
    "print(\"Hello Java\")"
   ]
  },
  {
   "cell_type": "code",
   "execution_count": 5,
   "id": "9416a7dd",
   "metadata": {},
   "outputs": [
    {
     "name": "stdout",
     "output_type": "stream",
     "text": [
      "Hello World Hello Java\n"
     ]
    }
   ],
   "source": [
    "print(\"Hello World\", end=\" \")\n",
    "print(\"Hello Java\")"
   ]
  },
  {
   "cell_type": "code",
   "execution_count": 7,
   "id": "0653aa67",
   "metadata": {},
   "outputs": [],
   "source": [
    "tam_sayi = 15\n",
    "reel_sayi = 3.14\n",
    "kelime = \"merhaba\"\n",
    "mantik = False\n",
    "karmasik = 3 + 5j"
   ]
  },
  {
   "cell_type": "code",
   "execution_count": 8,
   "id": "960d721f",
   "metadata": {},
   "outputs": [
    {
     "name": "stdout",
     "output_type": "stream",
     "text": [
      "tam_sayi değişkeni <class 'int'> türündedir\n",
      "reel_sayi değişkeni <class 'float'> türündedir\n",
      "kelime değişkeni <class 'str'> türündedir\n",
      "mantik değişkeni <class 'bool'> türündedir\n",
      "karmasik değişkeni <class 'complex'> türündedir\n"
     ]
    }
   ],
   "source": [
    "print(f\"tam_sayi değişkeni {type(tam_sayi)} türündedir\")\n",
    "print(f\"reel_sayi değişkeni {type(reel_sayi)} türündedir\")\n",
    "print(f\"kelime değişkeni {type(kelime)} türündedir\")\n",
    "print(f\"mantik değişkeni {type(mantik)} türündedir\")\n",
    "print(f\"karmasik değişkeni {type(karmasik)} türündedir\")"
   ]
  },
  {
   "cell_type": "code",
   "execution_count": 9,
   "id": "0913f2ab",
   "metadata": {},
   "outputs": [
    {
     "name": "stdout",
     "output_type": "stream",
     "text": [
      "25 + 35 = 60\n"
     ]
    }
   ],
   "source": [
    "sayi1 = 25\n",
    "sayi2 = 35\n",
    "print(f\"{sayi1} + {sayi2} = {sayi1 + sayi2}\")\n"
   ]
  },
  {
   "cell_type": "code",
   "execution_count": 10,
   "id": "e33731ae",
   "metadata": {},
   "outputs": [
    {
     "data": {
      "text/plain": [
       "7"
      ]
     },
     "execution_count": 10,
     "metadata": {},
     "output_type": "execute_result"
    }
   ],
   "source": [
    "len(\"merhaba\")"
   ]
  },
  {
   "cell_type": "code",
   "execution_count": 11,
   "id": "1c2cbceb",
   "metadata": {},
   "outputs": [
    {
     "data": {
      "text/plain": [
       "3"
      ]
     },
     "execution_count": 11,
     "metadata": {},
     "output_type": "execute_result"
    }
   ],
   "source": [
    "int(3.14)"
   ]
  },
  {
   "cell_type": "code",
   "execution_count": 12,
   "id": "a9da5deb",
   "metadata": {},
   "outputs": [
    {
     "data": {
      "text/plain": [
       "3.0"
      ]
     },
     "execution_count": 12,
     "metadata": {},
     "output_type": "execute_result"
    }
   ],
   "source": [
    "float(3)"
   ]
  },
  {
   "cell_type": "code",
   "execution_count": 13,
   "id": "0ab5e5cf",
   "metadata": {},
   "outputs": [
    {
     "data": {
      "text/plain": [
       "'False'"
      ]
     },
     "execution_count": 13,
     "metadata": {},
     "output_type": "execute_result"
    }
   ],
   "source": [
    "str(False)"
   ]
  },
  {
   "cell_type": "code",
   "execution_count": 14,
   "id": "25a99258",
   "metadata": {},
   "outputs": [
    {
     "data": {
      "text/plain": [
       "5"
      ]
     },
     "execution_count": 14,
     "metadata": {},
     "output_type": "execute_result"
    }
   ],
   "source": [
    "round(5.34)"
   ]
  },
  {
   "cell_type": "code",
   "execution_count": 15,
   "id": "18cb67b4",
   "metadata": {},
   "outputs": [
    {
     "data": {
      "text/plain": [
       "6"
      ]
     },
     "execution_count": 15,
     "metadata": {},
     "output_type": "execute_result"
    }
   ],
   "source": [
    "round(5.54)"
   ]
  },
  {
   "cell_type": "code",
   "execution_count": 16,
   "id": "5f30fca2",
   "metadata": {},
   "outputs": [],
   "source": [
    "import math"
   ]
  },
  {
   "cell_type": "code",
   "execution_count": 17,
   "id": "ab78e026",
   "metadata": {},
   "outputs": [
    {
     "data": {
      "text/plain": [
       "720"
      ]
     },
     "execution_count": 17,
     "metadata": {},
     "output_type": "execute_result"
    }
   ],
   "source": [
    "math.factorial(6)"
   ]
  },
  {
   "cell_type": "code",
   "execution_count": 18,
   "id": "5ebfb392",
   "metadata": {},
   "outputs": [
    {
     "data": {
      "text/plain": [
       "-0.9524129804151563"
      ]
     },
     "execution_count": 18,
     "metadata": {},
     "output_type": "execute_result"
    }
   ],
   "source": [
    "math.cos(60)"
   ]
  },
  {
   "cell_type": "code",
   "execution_count": 19,
   "id": "1faa10c4",
   "metadata": {},
   "outputs": [
    {
     "data": {
      "text/plain": [
       "0.5000000000000001"
      ]
     },
     "execution_count": 19,
     "metadata": {},
     "output_type": "execute_result"
    }
   ],
   "source": [
    "math.cos(math.radians(60))"
   ]
  },
  {
   "cell_type": "code",
   "execution_count": 20,
   "id": "dbd06c1e",
   "metadata": {
    "collapsed": true
   },
   "outputs": [
    {
     "data": {
      "text/plain": [
       "'bıktımbıktımbıktımbıktımbıktımbıktımbıktımbıktımbıktımbıktımbıktımbıktımbıktımbıktımbıktımbıktımbıktımbıktımbıktımbıktımbıktımbıktımbıktımbıktımbıktımbıktımbıktımbıktımbıktımbıktımbıktımbıktımbıktımbıktımbıktımbıktımbıktımbıktımbıktımbıktım'"
      ]
     },
     "execution_count": 20,
     "metadata": {},
     "output_type": "execute_result"
    }
   ],
   "source": [
    "40  * \"bıktım\""
   ]
  },
  {
   "cell_type": "markdown",
   "id": "f303a9e3",
   "metadata": {},
   "source": []
  },
  {
   "cell_type": "code",
   "execution_count": 25,
   "id": "1a129700",
   "metadata": {
    "collapsed": true
   },
   "outputs": [
    {
     "name": "stdout",
     "output_type": "stream",
     "text": [
      "10\n",
      "8\n",
      "6\n",
      "4\n",
      "2\n"
     ]
    }
   ],
   "source": [
    "for i in range(10, 1, -2):\n",
    "    print(i)"
   ]
  },
  {
   "cell_type": "code",
   "execution_count": 26,
   "id": "0fc8a1a0",
   "metadata": {
    "collapsed": true
   },
   "outputs": [
    {
     "name": "stdout",
     "output_type": "stream",
     "text": [
      "0\n",
      "1\n",
      "2\n",
      "3\n",
      "4\n",
      "5\n",
      "6\n",
      "7\n",
      "8\n",
      "9\n"
     ]
    }
   ],
   "source": [
    "i = 0\n",
    "while i < 10:\n",
    "    print(i)\n",
    "    i += 1\n"
   ]
  },
  {
   "cell_type": "code",
   "execution_count": 27,
   "id": "8c6ae708",
   "metadata": {},
   "outputs": [
    {
     "name": "stdout",
     "output_type": "stream",
     "text": [
      "sayi2 büyük\n"
     ]
    }
   ],
   "source": [
    "sayi1 = 15\n",
    "sayi2 = 25\n",
    "\n",
    "if sayi1 > sayi2:\n",
    "    print(\"sayi1 büyük\")\n",
    "elif sayi1 == sayi2:\n",
    "    print(\"sayilar eşit\")\n",
    "else:\n",
    "    print(\"sayi2 büyük\")"
   ]
  },
  {
   "cell_type": "code",
   "execution_count": 28,
   "id": "c17d3505",
   "metadata": {},
   "outputs": [
    {
     "name": "stdout",
     "output_type": "stream",
     "text": [
      "<class 'list'>\n",
      "<class 'list'>\n"
     ]
    }
   ],
   "source": [
    "liste1 = []\n",
    "liste2 = list()\n",
    "print(type(liste1))\n",
    "print(type(liste2))"
   ]
  },
  {
   "cell_type": "code",
   "execution_count": 29,
   "id": "ddd6095c",
   "metadata": {},
   "outputs": [
    {
     "data": {
      "text/plain": [
       "[15, 3.14, 'Merhaba', True, (3+5j)]"
      ]
     },
     "execution_count": 29,
     "metadata": {},
     "output_type": "execute_result"
    }
   ],
   "source": [
    "liste_new = [15, 3.14, \"Merhaba\", True, 3 + 5j]\n",
    "liste_new"
   ]
  },
  {
   "cell_type": "code",
   "execution_count": 31,
   "id": "3c34a286",
   "metadata": {},
   "outputs": [
    {
     "data": {
      "text/plain": [
       "[15, 3.14, 'Merhaba', True, (3+5j), 'End', 'End']"
      ]
     },
     "execution_count": 31,
     "metadata": {},
     "output_type": "execute_result"
    }
   ],
   "source": [
    "liste_new.append(\"End\")\n",
    "liste_new"
   ]
  },
  {
   "cell_type": "code",
   "execution_count": 32,
   "id": "1576b7e7",
   "metadata": {},
   "outputs": [
    {
     "data": {
      "text/plain": [
       "15"
      ]
     },
     "execution_count": 32,
     "metadata": {},
     "output_type": "execute_result"
    }
   ],
   "source": [
    "liste_new[0]"
   ]
  },
  {
   "cell_type": "code",
   "execution_count": 33,
   "id": "96dcdd83",
   "metadata": {
    "collapsed": true
   },
   "outputs": [
    {
     "name": "stdout",
     "output_type": "stream",
     "text": [
      "15\n",
      "3.14\n",
      "Merhaba\n",
      "True\n",
      "(3+5j)\n",
      "End\n",
      "End\n"
     ]
    }
   ],
   "source": [
    "for elm in liste_new:\n",
    "    print(elm)"
   ]
  },
  {
   "cell_type": "code",
   "execution_count": 34,
   "id": "81649c08",
   "metadata": {
    "collapsed": true
   },
   "outputs": [
    {
     "name": "stdout",
     "output_type": "stream",
     "text": [
      "0. eleman 15\n",
      "1. eleman 3.14\n",
      "2. eleman Merhaba\n",
      "3. eleman True\n",
      "4. eleman (3+5j)\n",
      "5. eleman End\n",
      "6. eleman End\n"
     ]
    }
   ],
   "source": [
    "for index in range(len(liste_new)):\n",
    "    print(f\"{index}. eleman {liste_new[index]}\")"
   ]
  },
  {
   "cell_type": "code",
   "execution_count": 35,
   "id": "fa96a293",
   "metadata": {},
   "outputs": [
    {
     "name": "stdout",
     "output_type": "stream",
     "text": [
      "<class 'tuple'>\n",
      "<class 'tuple'>\n"
     ]
    }
   ],
   "source": [
    "tuple1 = ()\n",
    "tuple2 = tuple()\n",
    "print(type(tuple1))\n",
    "print(type(tuple2))"
   ]
  },
  {
   "cell_type": "code",
   "execution_count": 36,
   "id": "9a8e6c70",
   "metadata": {},
   "outputs": [
    {
     "data": {
      "text/plain": [
       "(1, 2, 3, 4)"
      ]
     },
     "execution_count": 36,
     "metadata": {},
     "output_type": "execute_result"
    }
   ],
   "source": [
    "tuple_new = (1, 2, 3, 4)\n",
    "tuple_new"
   ]
  },
  {
   "cell_type": "code",
   "execution_count": 37,
   "id": "67e0969e",
   "metadata": {
    "collapsed": true
   },
   "outputs": [
    {
     "name": "stdout",
     "output_type": "stream",
     "text": [
      "<class 'dict'>\n",
      "<class 'dict'>\n"
     ]
    }
   ],
   "source": [
    "dict1 = {}\n",
    "dict2 = dict()\n",
    "print(type(dict1))\n",
    "print(type(dict2))"
   ]
  },
  {
   "cell_type": "code",
   "execution_count": 38,
   "id": "9c5aed3e",
   "metadata": {},
   "outputs": [
    {
     "data": {
      "text/plain": [
       "{'Kalem': 5, 'Defter': 6, 'Silgi': 7}"
      ]
     },
     "execution_count": 38,
     "metadata": {},
     "output_type": "execute_result"
    }
   ],
   "source": [
    "dict_new =  {\n",
    "    \"Kalem\" : 5,\n",
    "    \"Defter\" : 6,\n",
    "    \"Silgi\" : 7\n",
    "}\n",
    "dict_new"
   ]
  },
  {
   "cell_type": "code",
   "execution_count": 39,
   "id": "d48ad166",
   "metadata": {},
   "outputs": [
    {
     "data": {
      "text/plain": [
       "5"
      ]
     },
     "execution_count": 39,
     "metadata": {},
     "output_type": "execute_result"
    }
   ],
   "source": [
    "dict_new[\"Kalem\"]"
   ]
  },
  {
   "cell_type": "code",
   "execution_count": 46,
   "id": "ddcd2a26",
   "metadata": {},
   "outputs": [
    {
     "data": {
      "text/plain": [
       "{1: 2, 3: 3, 4: 2, 10: 2, 18: 1, 2: 2}"
      ]
     },
     "execution_count": 46,
     "metadata": {},
     "output_type": "execute_result"
    }
   ],
   "source": [
    "eleman = [1, 3, 4, 1, 10, 18, 3, 2, 3, 4, 2, 10]\n",
    "sonuc ={}\n",
    "\n",
    "for elm in eleman:\n",
    "    if elm not in sonuc.keys():\n",
    "        sonuc[elm] = 1\n",
    "    else:\n",
    "        sonuc[elm] += 1\n",
    "sonuc\n"
   ]
  },
  {
   "cell_type": "code",
   "execution_count": null,
   "id": "551c0260",
   "metadata": {},
   "outputs": [],
   "source": []
  },
  {
   "cell_type": "code",
   "execution_count": null,
   "id": "c7865d68",
   "metadata": {},
   "outputs": [],
   "source": []
  },
  {
   "cell_type": "code",
   "execution_count": null,
   "id": "34eeaeb6",
   "metadata": {},
   "outputs": [],
   "source": []
  },
  {
   "cell_type": "code",
   "execution_count": null,
   "id": "0bf2670b",
   "metadata": {},
   "outputs": [],
   "source": []
  },
  {
   "cell_type": "code",
   "execution_count": null,
   "id": "d6f5e93a",
   "metadata": {},
   "outputs": [],
   "source": []
  },
  {
   "cell_type": "code",
   "execution_count": null,
   "id": "c020f219",
   "metadata": {},
   "outputs": [],
   "source": []
  },
  {
   "cell_type": "code",
   "execution_count": null,
   "id": "c5b13f42",
   "metadata": {},
   "outputs": [],
   "source": []
  },
  {
   "cell_type": "code",
   "execution_count": null,
   "id": "17cf27fb",
   "metadata": {},
   "outputs": [],
   "source": []
  },
  {
   "cell_type": "code",
   "execution_count": null,
   "id": "b47a573e",
   "metadata": {},
   "outputs": [],
   "source": []
  }
 ],
 "metadata": {
  "kernelspec": {
   "display_name": "Python 3 (ipykernel)",
   "language": "python",
   "name": "python3"
  },
  "language_info": {
   "codemirror_mode": {
    "name": "ipython",
    "version": 3
   },
   "file_extension": ".py",
   "mimetype": "text/x-python",
   "name": "python",
   "nbconvert_exporter": "python",
   "pygments_lexer": "ipython3",
   "version": "3.10.13"
  }
 },
 "nbformat": 4,
 "nbformat_minor": 5
}
