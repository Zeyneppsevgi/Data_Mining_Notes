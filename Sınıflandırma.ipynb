{
 "cells": [
  {
   "cell_type": "code",
   "execution_count": 1,
   "id": "84833a3d",
   "metadata": {},
   "outputs": [],
   "source": [
    "import pandas as pd"
   ]
  },
  {
   "cell_type": "code",
   "execution_count": 2,
   "id": "9f5b52e9",
   "metadata": {},
   "outputs": [
    {
     "data": {
      "text/html": [
       "<div>\n",
       "<style scoped>\n",
       "    .dataframe tbody tr th:only-of-type {\n",
       "        vertical-align: middle;\n",
       "    }\n",
       "\n",
       "    .dataframe tbody tr th {\n",
       "        vertical-align: top;\n",
       "    }\n",
       "\n",
       "    .dataframe thead th {\n",
       "        text-align: right;\n",
       "    }\n",
       "</style>\n",
       "<table border=\"1\" class=\"dataframe\">\n",
       "  <thead>\n",
       "    <tr style=\"text-align: right;\">\n",
       "      <th></th>\n",
       "      <th>label</th>\n",
       "      <th>id</th>\n",
       "      <th>fea_1</th>\n",
       "      <th>fea_2</th>\n",
       "      <th>fea_3</th>\n",
       "      <th>fea_4</th>\n",
       "      <th>fea_5</th>\n",
       "      <th>fea_6</th>\n",
       "      <th>fea_7</th>\n",
       "      <th>fea_8</th>\n",
       "      <th>fea_9</th>\n",
       "      <th>fea_10</th>\n",
       "      <th>fea_11</th>\n",
       "    </tr>\n",
       "  </thead>\n",
       "  <tbody>\n",
       "    <tr>\n",
       "      <th>0</th>\n",
       "      <td>1</td>\n",
       "      <td>54982665</td>\n",
       "      <td>5</td>\n",
       "      <td>1245.5</td>\n",
       "      <td>3</td>\n",
       "      <td>77000.0</td>\n",
       "      <td>2</td>\n",
       "      <td>15</td>\n",
       "      <td>5</td>\n",
       "      <td>109</td>\n",
       "      <td>5</td>\n",
       "      <td>151300</td>\n",
       "      <td>244.948974</td>\n",
       "    </tr>\n",
       "    <tr>\n",
       "      <th>1</th>\n",
       "      <td>0</td>\n",
       "      <td>59004779</td>\n",
       "      <td>4</td>\n",
       "      <td>1277.0</td>\n",
       "      <td>1</td>\n",
       "      <td>113000.0</td>\n",
       "      <td>2</td>\n",
       "      <td>8</td>\n",
       "      <td>-1</td>\n",
       "      <td>100</td>\n",
       "      <td>3</td>\n",
       "      <td>341759</td>\n",
       "      <td>207.173840</td>\n",
       "    </tr>\n",
       "    <tr>\n",
       "      <th>2</th>\n",
       "      <td>0</td>\n",
       "      <td>58990862</td>\n",
       "      <td>7</td>\n",
       "      <td>1298.0</td>\n",
       "      <td>1</td>\n",
       "      <td>110000.0</td>\n",
       "      <td>2</td>\n",
       "      <td>11</td>\n",
       "      <td>-1</td>\n",
       "      <td>101</td>\n",
       "      <td>5</td>\n",
       "      <td>72001</td>\n",
       "      <td>1.000000</td>\n",
       "    </tr>\n",
       "    <tr>\n",
       "      <th>3</th>\n",
       "      <td>1</td>\n",
       "      <td>58995168</td>\n",
       "      <td>7</td>\n",
       "      <td>1335.5</td>\n",
       "      <td>1</td>\n",
       "      <td>151000.0</td>\n",
       "      <td>2</td>\n",
       "      <td>11</td>\n",
       "      <td>5</td>\n",
       "      <td>110</td>\n",
       "      <td>3</td>\n",
       "      <td>60084</td>\n",
       "      <td>1.000000</td>\n",
       "    </tr>\n",
       "    <tr>\n",
       "      <th>4</th>\n",
       "      <td>0</td>\n",
       "      <td>54987320</td>\n",
       "      <td>7</td>\n",
       "      <td>NaN</td>\n",
       "      <td>2</td>\n",
       "      <td>59000.0</td>\n",
       "      <td>2</td>\n",
       "      <td>11</td>\n",
       "      <td>5</td>\n",
       "      <td>108</td>\n",
       "      <td>4</td>\n",
       "      <td>450081</td>\n",
       "      <td>197.403141</td>\n",
       "    </tr>\n",
       "    <tr>\n",
       "      <th>...</th>\n",
       "      <td>...</td>\n",
       "      <td>...</td>\n",
       "      <td>...</td>\n",
       "      <td>...</td>\n",
       "      <td>...</td>\n",
       "      <td>...</td>\n",
       "      <td>...</td>\n",
       "      <td>...</td>\n",
       "      <td>...</td>\n",
       "      <td>...</td>\n",
       "      <td>...</td>\n",
       "      <td>...</td>\n",
       "      <td>...</td>\n",
       "    </tr>\n",
       "    <tr>\n",
       "      <th>1120</th>\n",
       "      <td>0</td>\n",
       "      <td>58988196</td>\n",
       "      <td>5</td>\n",
       "      <td>1289.0</td>\n",
       "      <td>1</td>\n",
       "      <td>173000.0</td>\n",
       "      <td>2</td>\n",
       "      <td>15</td>\n",
       "      <td>5</td>\n",
       "      <td>112</td>\n",
       "      <td>3</td>\n",
       "      <td>350702</td>\n",
       "      <td>200.000000</td>\n",
       "    </tr>\n",
       "    <tr>\n",
       "      <th>1121</th>\n",
       "      <td>0</td>\n",
       "      <td>58987926</td>\n",
       "      <td>5</td>\n",
       "      <td>NaN</td>\n",
       "      <td>2</td>\n",
       "      <td>50000.0</td>\n",
       "      <td>2</td>\n",
       "      <td>15</td>\n",
       "      <td>5</td>\n",
       "      <td>108</td>\n",
       "      <td>4</td>\n",
       "      <td>450000</td>\n",
       "      <td>169.000000</td>\n",
       "    </tr>\n",
       "    <tr>\n",
       "      <th>1122</th>\n",
       "      <td>0</td>\n",
       "      <td>58995381</td>\n",
       "      <td>7</td>\n",
       "      <td>1220.0</td>\n",
       "      <td>3</td>\n",
       "      <td>76000.0</td>\n",
       "      <td>2</td>\n",
       "      <td>11</td>\n",
       "      <td>2</td>\n",
       "      <td>90</td>\n",
       "      <td>5</td>\n",
       "      <td>71002</td>\n",
       "      <td>1.000000</td>\n",
       "    </tr>\n",
       "    <tr>\n",
       "      <th>1123</th>\n",
       "      <td>0</td>\n",
       "      <td>58998054</td>\n",
       "      <td>4</td>\n",
       "      <td>1250.0</td>\n",
       "      <td>3</td>\n",
       "      <td>137000.0</td>\n",
       "      <td>2</td>\n",
       "      <td>8</td>\n",
       "      <td>5</td>\n",
       "      <td>90</td>\n",
       "      <td>5</td>\n",
       "      <td>72000</td>\n",
       "      <td>1.000000</td>\n",
       "    </tr>\n",
       "    <tr>\n",
       "      <th>1124</th>\n",
       "      <td>0</td>\n",
       "      <td>54989781</td>\n",
       "      <td>4</td>\n",
       "      <td>1415.0</td>\n",
       "      <td>3</td>\n",
       "      <td>93000.0</td>\n",
       "      <td>2</td>\n",
       "      <td>8</td>\n",
       "      <td>5</td>\n",
       "      <td>113</td>\n",
       "      <td>4</td>\n",
       "      <td>151300</td>\n",
       "      <td>273.861279</td>\n",
       "    </tr>\n",
       "  </tbody>\n",
       "</table>\n",
       "<p>1125 rows × 13 columns</p>\n",
       "</div>"
      ],
      "text/plain": [
       "      label        id  fea_1   fea_2  fea_3     fea_4  fea_5  fea_6  fea_7  \\\n",
       "0         1  54982665      5  1245.5      3   77000.0      2     15      5   \n",
       "1         0  59004779      4  1277.0      1  113000.0      2      8     -1   \n",
       "2         0  58990862      7  1298.0      1  110000.0      2     11     -1   \n",
       "3         1  58995168      7  1335.5      1  151000.0      2     11      5   \n",
       "4         0  54987320      7     NaN      2   59000.0      2     11      5   \n",
       "...     ...       ...    ...     ...    ...       ...    ...    ...    ...   \n",
       "1120      0  58988196      5  1289.0      1  173000.0      2     15      5   \n",
       "1121      0  58987926      5     NaN      2   50000.0      2     15      5   \n",
       "1122      0  58995381      7  1220.0      3   76000.0      2     11      2   \n",
       "1123      0  58998054      4  1250.0      3  137000.0      2      8      5   \n",
       "1124      0  54989781      4  1415.0      3   93000.0      2      8      5   \n",
       "\n",
       "      fea_8  fea_9  fea_10      fea_11  \n",
       "0       109      5  151300  244.948974  \n",
       "1       100      3  341759  207.173840  \n",
       "2       101      5   72001    1.000000  \n",
       "3       110      3   60084    1.000000  \n",
       "4       108      4  450081  197.403141  \n",
       "...     ...    ...     ...         ...  \n",
       "1120    112      3  350702  200.000000  \n",
       "1121    108      4  450000  169.000000  \n",
       "1122     90      5   71002    1.000000  \n",
       "1123     90      5   72000    1.000000  \n",
       "1124    113      4  151300  273.861279  \n",
       "\n",
       "[1125 rows x 13 columns]"
      ]
     },
     "execution_count": 2,
     "metadata": {},
     "output_type": "execute_result"
    }
   ],
   "source": [
    "df = pd.read_csv(\"resources/customer_data.csv\")\n",
    "df\n",
    "#kişiler daha önce etiketlenmiş, çeşitli özellikleri"
   ]
  },
  {
   "cell_type": "code",
   "execution_count": 3,
   "id": "17080825",
   "metadata": {},
   "outputs": [
    {
     "name": "stdout",
     "output_type": "stream",
     "text": [
      "<class 'pandas.core.frame.DataFrame'>\n",
      "RangeIndex: 1125 entries, 0 to 1124\n",
      "Data columns (total 13 columns):\n",
      " #   Column  Non-Null Count  Dtype  \n",
      "---  ------  --------------  -----  \n",
      " 0   label   1125 non-null   int64  \n",
      " 1   id      1125 non-null   int64  \n",
      " 2   fea_1   1125 non-null   int64  \n",
      " 3   fea_2   976 non-null    float64\n",
      " 4   fea_3   1125 non-null   int64  \n",
      " 5   fea_4   1125 non-null   float64\n",
      " 6   fea_5   1125 non-null   int64  \n",
      " 7   fea_6   1125 non-null   int64  \n",
      " 8   fea_7   1125 non-null   int64  \n",
      " 9   fea_8   1125 non-null   int64  \n",
      " 10  fea_9   1125 non-null   int64  \n",
      " 11  fea_10  1125 non-null   int64  \n",
      " 12  fea_11  1125 non-null   float64\n",
      "dtypes: float64(3), int64(10)\n",
      "memory usage: 114.4 KB\n"
     ]
    }
   ],
   "source": [
    "df.info()\n",
    "#veri hakkında genel bilgi ediniyoruz.\n",
    "#elimizde 1125 tane veri var kayıplar var 976 tane veriye sahibiz \n",
    "#bu veriyi kullanarak sınıflandırma yapamayız buna bir çözüm bulmamız gerekiyor"
   ]
  },
  {
   "cell_type": "code",
   "execution_count": 5,
   "id": "048c2a2f",
   "metadata": {},
   "outputs": [
    {
     "data": {
      "text/html": [
       "<div>\n",
       "<style scoped>\n",
       "    .dataframe tbody tr th:only-of-type {\n",
       "        vertical-align: middle;\n",
       "    }\n",
       "\n",
       "    .dataframe tbody tr th {\n",
       "        vertical-align: top;\n",
       "    }\n",
       "\n",
       "    .dataframe thead th {\n",
       "        text-align: right;\n",
       "    }\n",
       "</style>\n",
       "<table border=\"1\" class=\"dataframe\">\n",
       "  <thead>\n",
       "    <tr style=\"text-align: right;\">\n",
       "      <th></th>\n",
       "      <th>count</th>\n",
       "      <th>mean</th>\n",
       "      <th>std</th>\n",
       "      <th>min</th>\n",
       "      <th>25%</th>\n",
       "      <th>50%</th>\n",
       "      <th>75%</th>\n",
       "      <th>max</th>\n",
       "    </tr>\n",
       "  </thead>\n",
       "  <tbody>\n",
       "    <tr>\n",
       "      <th>label</th>\n",
       "      <td>1125.0</td>\n",
       "      <td>2.000000e-01</td>\n",
       "      <td>4.001779e-01</td>\n",
       "      <td>0.0</td>\n",
       "      <td>0.0</td>\n",
       "      <td>0.000000e+00</td>\n",
       "      <td>0.000000e+00</td>\n",
       "      <td>1.000000e+00</td>\n",
       "    </tr>\n",
       "    <tr>\n",
       "      <th>id</th>\n",
       "      <td>1125.0</td>\n",
       "      <td>5.783677e+07</td>\n",
       "      <td>1.817150e+06</td>\n",
       "      <td>54982353.0</td>\n",
       "      <td>54990497.0</td>\n",
       "      <td>5.898975e+07</td>\n",
       "      <td>5.899799e+07</td>\n",
       "      <td>5.900624e+07</td>\n",
       "    </tr>\n",
       "    <tr>\n",
       "      <th>fea_1</th>\n",
       "      <td>1125.0</td>\n",
       "      <td>5.482667e+00</td>\n",
       "      <td>1.383338e+00</td>\n",
       "      <td>1.0</td>\n",
       "      <td>4.0</td>\n",
       "      <td>5.000000e+00</td>\n",
       "      <td>7.000000e+00</td>\n",
       "      <td>7.000000e+00</td>\n",
       "    </tr>\n",
       "    <tr>\n",
       "      <th>fea_2</th>\n",
       "      <td>976.0</td>\n",
       "      <td>1.283911e+03</td>\n",
       "      <td>5.176402e+01</td>\n",
       "      <td>1116.5</td>\n",
       "      <td>1244.0</td>\n",
       "      <td>1.281500e+03</td>\n",
       "      <td>1.314500e+03</td>\n",
       "      <td>1.481000e+03</td>\n",
       "    </tr>\n",
       "    <tr>\n",
       "      <th>fea_3</th>\n",
       "      <td>1125.0</td>\n",
       "      <td>2.333333e+00</td>\n",
       "      <td>8.787730e-01</td>\n",
       "      <td>1.0</td>\n",
       "      <td>1.0</td>\n",
       "      <td>3.000000e+00</td>\n",
       "      <td>3.000000e+00</td>\n",
       "      <td>3.000000e+00</td>\n",
       "    </tr>\n",
       "    <tr>\n",
       "      <th>fea_4</th>\n",
       "      <td>1125.0</td>\n",
       "      <td>1.208836e+05</td>\n",
       "      <td>8.844523e+04</td>\n",
       "      <td>15000.0</td>\n",
       "      <td>72000.0</td>\n",
       "      <td>1.020000e+05</td>\n",
       "      <td>1.390000e+05</td>\n",
       "      <td>1.200000e+06</td>\n",
       "    </tr>\n",
       "    <tr>\n",
       "      <th>fea_5</th>\n",
       "      <td>1125.0</td>\n",
       "      <td>1.928889e+00</td>\n",
       "      <td>2.571247e-01</td>\n",
       "      <td>1.0</td>\n",
       "      <td>2.0</td>\n",
       "      <td>2.000000e+00</td>\n",
       "      <td>2.000000e+00</td>\n",
       "      <td>2.000000e+00</td>\n",
       "    </tr>\n",
       "    <tr>\n",
       "      <th>fea_6</th>\n",
       "      <td>1125.0</td>\n",
       "      <td>1.087200e+01</td>\n",
       "      <td>2.676437e+00</td>\n",
       "      <td>3.0</td>\n",
       "      <td>8.0</td>\n",
       "      <td>1.100000e+01</td>\n",
       "      <td>1.100000e+01</td>\n",
       "      <td>1.600000e+01</td>\n",
       "    </tr>\n",
       "    <tr>\n",
       "      <th>fea_7</th>\n",
       "      <td>1125.0</td>\n",
       "      <td>4.832889e+00</td>\n",
       "      <td>2.971182e+00</td>\n",
       "      <td>-1.0</td>\n",
       "      <td>5.0</td>\n",
       "      <td>5.000000e+00</td>\n",
       "      <td>5.000000e+00</td>\n",
       "      <td>1.000000e+01</td>\n",
       "    </tr>\n",
       "    <tr>\n",
       "      <th>fea_8</th>\n",
       "      <td>1125.0</td>\n",
       "      <td>1.008027e+02</td>\n",
       "      <td>1.198896e+01</td>\n",
       "      <td>64.0</td>\n",
       "      <td>90.0</td>\n",
       "      <td>1.050000e+02</td>\n",
       "      <td>1.110000e+02</td>\n",
       "      <td>1.150000e+02</td>\n",
       "    </tr>\n",
       "    <tr>\n",
       "      <th>fea_9</th>\n",
       "      <td>1125.0</td>\n",
       "      <td>4.195556e+00</td>\n",
       "      <td>8.556790e-01</td>\n",
       "      <td>1.0</td>\n",
       "      <td>3.0</td>\n",
       "      <td>4.000000e+00</td>\n",
       "      <td>5.000000e+00</td>\n",
       "      <td>5.000000e+00</td>\n",
       "    </tr>\n",
       "    <tr>\n",
       "      <th>fea_10</th>\n",
       "      <td>1125.0</td>\n",
       "      <td>1.646185e+05</td>\n",
       "      <td>1.525205e+05</td>\n",
       "      <td>60000.0</td>\n",
       "      <td>60044.0</td>\n",
       "      <td>7.200000e+04</td>\n",
       "      <td>1.513070e+05</td>\n",
       "      <td>6.500700e+05</td>\n",
       "    </tr>\n",
       "    <tr>\n",
       "      <th>fea_11</th>\n",
       "      <td>1125.0</td>\n",
       "      <td>1.349990e+02</td>\n",
       "      <td>1.126168e+02</td>\n",
       "      <td>1.0</td>\n",
       "      <td>1.0</td>\n",
       "      <td>1.732051e+02</td>\n",
       "      <td>2.024846e+02</td>\n",
       "      <td>7.071068e+02</td>\n",
       "    </tr>\n",
       "  </tbody>\n",
       "</table>\n",
       "</div>"
      ],
      "text/plain": [
       "         count          mean           std         min         25%  \\\n",
       "label   1125.0  2.000000e-01  4.001779e-01         0.0         0.0   \n",
       "id      1125.0  5.783677e+07  1.817150e+06  54982353.0  54990497.0   \n",
       "fea_1   1125.0  5.482667e+00  1.383338e+00         1.0         4.0   \n",
       "fea_2    976.0  1.283911e+03  5.176402e+01      1116.5      1244.0   \n",
       "fea_3   1125.0  2.333333e+00  8.787730e-01         1.0         1.0   \n",
       "fea_4   1125.0  1.208836e+05  8.844523e+04     15000.0     72000.0   \n",
       "fea_5   1125.0  1.928889e+00  2.571247e-01         1.0         2.0   \n",
       "fea_6   1125.0  1.087200e+01  2.676437e+00         3.0         8.0   \n",
       "fea_7   1125.0  4.832889e+00  2.971182e+00        -1.0         5.0   \n",
       "fea_8   1125.0  1.008027e+02  1.198896e+01        64.0        90.0   \n",
       "fea_9   1125.0  4.195556e+00  8.556790e-01         1.0         3.0   \n",
       "fea_10  1125.0  1.646185e+05  1.525205e+05     60000.0     60044.0   \n",
       "fea_11  1125.0  1.349990e+02  1.126168e+02         1.0         1.0   \n",
       "\n",
       "                 50%           75%           max  \n",
       "label   0.000000e+00  0.000000e+00  1.000000e+00  \n",
       "id      5.898975e+07  5.899799e+07  5.900624e+07  \n",
       "fea_1   5.000000e+00  7.000000e+00  7.000000e+00  \n",
       "fea_2   1.281500e+03  1.314500e+03  1.481000e+03  \n",
       "fea_3   3.000000e+00  3.000000e+00  3.000000e+00  \n",
       "fea_4   1.020000e+05  1.390000e+05  1.200000e+06  \n",
       "fea_5   2.000000e+00  2.000000e+00  2.000000e+00  \n",
       "fea_6   1.100000e+01  1.100000e+01  1.600000e+01  \n",
       "fea_7   5.000000e+00  5.000000e+00  1.000000e+01  \n",
       "fea_8   1.050000e+02  1.110000e+02  1.150000e+02  \n",
       "fea_9   4.000000e+00  5.000000e+00  5.000000e+00  \n",
       "fea_10  7.200000e+04  1.513070e+05  6.500700e+05  \n",
       "fea_11  1.732051e+02  2.024846e+02  7.071068e+02  "
      ]
     },
     "execution_count": 5,
     "metadata": {},
     "output_type": "execute_result"
    }
   ],
   "source": [
    "df.describe().T\n",
    "#veriler hakkında sayısal bilgi veriyor."
   ]
  },
  {
   "cell_type": "code",
   "execution_count": 6,
   "id": "cc1fea16",
   "metadata": {},
   "outputs": [
    {
     "data": {
      "text/plain": [
       "(1283.9113729508197, 1281.5)"
      ]
     },
     "execution_count": 6,
     "metadata": {},
     "output_type": "execute_result"
    }
   ],
   "source": [
    "df.fea_2.mean(), df.fea_2.median()\n",
    "#mean ve median çok yakın birbirine birini kullansak yeterli "
   ]
  },
  {
   "cell_type": "code",
   "execution_count": 7,
   "id": "518ee385",
   "metadata": {},
   "outputs": [
    {
     "data": {
      "text/plain": [
       "label     0\n",
       "id        0\n",
       "fea_1     0\n",
       "fea_2     0\n",
       "fea_3     0\n",
       "fea_4     0\n",
       "fea_5     0\n",
       "fea_6     0\n",
       "fea_7     0\n",
       "fea_8     0\n",
       "fea_9     0\n",
       "fea_10    0\n",
       "fea_11    0\n",
       "dtype: int64"
      ]
     },
     "execution_count": 7,
     "metadata": {},
     "output_type": "execute_result"
    }
   ],
   "source": [
    "df.fea_2.fillna(df.fea_2.mean(), inplace = True)\n",
    "df.isna().sum()\n",
    "#hiç nul veri kalmadı elimizde ortalamayla doldurduk boş\n",
    "#olanları isnasum ile elimdeki veri hala boş var mı diye bsktık "
   ]
  },
  {
   "cell_type": "code",
   "execution_count": 8,
   "id": "be114688",
   "metadata": {
    "scrolled": true
   },
   "outputs": [
    {
     "data": {
      "text/plain": [
       "0    900\n",
       "1    225\n",
       "Name: label, dtype: int64"
      ]
     },
     "execution_count": 8,
     "metadata": {},
     "output_type": "execute_result"
    }
   ],
   "source": [
    "df.label.value_counts()\n",
    "#elimizde kaç tane 0-1 olduğunu gösterdi dengesiz bir veri seti"
   ]
  },
  {
   "cell_type": "code",
   "execution_count": 15,
   "id": "9f21c83b",
   "metadata": {},
   "outputs": [
    {
     "data": {
      "text/plain": [
       "<AxesSubplot:title={'center':'Risk Dağılım Grafiği'}, xlabel='Risk_Duzeyi', ylabel='Toplam_Sayi'>"
      ]
     },
     "execution_count": 15,
     "metadata": {},
     "output_type": "execute_result"
    },
    {
     "data": {
      "image/png": "[encoded data removed]",
      "text/plain": [
       "<Figure size 432x288 with 1 Axes>"
      ]
     },
     "metadata": {
      "needs_background": "light"
     },
     "output_type": "display_data"
    }
   ],
   "source": [
    "import seaborn as sns #veri görselleştirme için kullanılır.sütundaki farklı \n",
    "                      #kategorilerin sayısını görselleştirmek üzere bir çubuk grafik oluşturur.\n",
    "import matplotlib.pyplot as plt\n",
    "\n",
    "label_count = pd.DataFrame(\n",
    "    {\n",
    "        \"Risk_Duzeyi\":df.label.value_counts().index,\n",
    "        \"Toplam_Sayi\":df.label.value_counts().values\n",
    "    }\n",
    ")\n",
    "#label_count\n",
    "plt.title(\"Risk Dağılım Grafiği\")\n",
    "sns.barplot(data=label_count, x=\"Risk_Duzeyi\", y=\"Toplam_Sayi\", hue=\"Risk_Duzeyi\")\n",
    "#hue veriyi renklendirmek için kullanılacak sütunu belirler."
   ]
  },
  {
   "cell_type": "code",
   "execution_count": 18,
   "id": "3662bab2",
   "metadata": {},
   "outputs": [
    {
     "data": {
      "text/plain": [
       "<AxesSubplot:>"
      ]
     },
     "execution_count": 18,
     "metadata": {},
     "output_type": "execute_result"
    },
    {
     "data": {
      "image/png": "[encoded data removed]",
      "text/plain": [
       "<Figure size 432x288 with 1 Axes>"
      ]
     },
     "metadata": {
      "needs_background": "light"
     },
     "output_type": "display_data"
    }
   ],
   "source": [
    "sns.barplot(x=df.label.value_counts().index, y=df.label.value_counts().values, hue=df.label.value_counts().index)\n",
    "#dataframesiz yaptık"
   ]
  },
  {
   "cell_type": "code",
   "execution_count": 31,
   "id": "6b8522f3",
   "metadata": {},
   "outputs": [],
   "source": [
    "#X ve y yi belirlememiz gerekiyor.\n",
    "X = df.drop(\"label\", axis=1)#'label' sütununu (hedef değişkeni) veri çerçevesinden çıkarır. Yani,\n",
    "#'label' sütunu hariç diğer tüm sütunları içeren yeni bir veri çerçevesi oluşturur. \n",
    "y = df.label\n",
    "#X değişkeni bağımsız değişkenleri içerirken, y değişkeni bağımlı değişkeni içerir.\n",
    "#Bu, bir sınıflandırma veya regresyon modeli eğitirken bağımsız ve bağımlı değişkenleri belirlemek için yaygın bir yaklaşımdır.\n"
   ]
  },
  {
   "cell_type": "code",
   "execution_count": 32,
   "id": "e156197a",
   "metadata": {},
   "outputs": [
    {
     "data": {
      "text/html": [
       "<div>\n",
       "<style scoped>\n",
       "    .dataframe tbody tr th:only-of-type {\n",
       "        vertical-align: middle;\n",
       "    }\n",
       "\n",
       "    .dataframe tbody tr th {\n",
       "        vertical-align: top;\n",
       "    }\n",
       "\n",
       "    .dataframe thead th {\n",
       "        text-align: right;\n",
       "    }\n",
       "</style>\n",
       "<table border=\"1\" class=\"dataframe\">\n",
       "  <thead>\n",
       "    <tr style=\"text-align: right;\">\n",
       "      <th></th>\n",
       "      <th>id</th>\n",
       "      <th>fea_1</th>\n",
       "      <th>fea_2</th>\n",
       "      <th>fea_3</th>\n",
       "      <th>fea_4</th>\n",
       "      <th>fea_5</th>\n",
       "      <th>fea_6</th>\n",
       "      <th>fea_7</th>\n",
       "      <th>fea_8</th>\n",
       "      <th>fea_9</th>\n",
       "      <th>fea_10</th>\n",
       "      <th>fea_11</th>\n",
       "    </tr>\n",
       "  </thead>\n",
       "  <tbody>\n",
       "    <tr>\n",
       "      <th>0</th>\n",
       "      <td>54982665</td>\n",
       "      <td>5</td>\n",
       "      <td>1245.500000</td>\n",
       "      <td>3</td>\n",
       "      <td>77000.0</td>\n",
       "      <td>2</td>\n",
       "      <td>15</td>\n",
       "      <td>5</td>\n",
       "      <td>109</td>\n",
       "      <td>5</td>\n",
       "      <td>151300</td>\n",
       "      <td>244.948974</td>\n",
       "    </tr>\n",
       "    <tr>\n",
       "      <th>1</th>\n",
       "      <td>59004779</td>\n",
       "      <td>4</td>\n",
       "      <td>1277.000000</td>\n",
       "      <td>1</td>\n",
       "      <td>113000.0</td>\n",
       "      <td>2</td>\n",
       "      <td>8</td>\n",
       "      <td>-1</td>\n",
       "      <td>100</td>\n",
       "      <td>3</td>\n",
       "      <td>341759</td>\n",
       "      <td>207.173840</td>\n",
       "    </tr>\n",
       "    <tr>\n",
       "      <th>2</th>\n",
       "      <td>58990862</td>\n",
       "      <td>7</td>\n",
       "      <td>1298.000000</td>\n",
       "      <td>1</td>\n",
       "      <td>110000.0</td>\n",
       "      <td>2</td>\n",
       "      <td>11</td>\n",
       "      <td>-1</td>\n",
       "      <td>101</td>\n",
       "      <td>5</td>\n",
       "      <td>72001</td>\n",
       "      <td>1.000000</td>\n",
       "    </tr>\n",
       "    <tr>\n",
       "      <th>3</th>\n",
       "      <td>58995168</td>\n",
       "      <td>7</td>\n",
       "      <td>1335.500000</td>\n",
       "      <td>1</td>\n",
       "      <td>151000.0</td>\n",
       "      <td>2</td>\n",
       "      <td>11</td>\n",
       "      <td>5</td>\n",
       "      <td>110</td>\n",
       "      <td>3</td>\n",
       "      <td>60084</td>\n",
       "      <td>1.000000</td>\n",
       "    </tr>\n",
       "    <tr>\n",
       "      <th>4</th>\n",
       "      <td>54987320</td>\n",
       "      <td>7</td>\n",
       "      <td>1283.911373</td>\n",
       "      <td>2</td>\n",
       "      <td>59000.0</td>\n",
       "      <td>2</td>\n",
       "      <td>11</td>\n",
       "      <td>5</td>\n",
       "      <td>108</td>\n",
       "      <td>4</td>\n",
       "      <td>450081</td>\n",
       "      <td>197.403141</td>\n",
       "    </tr>\n",
       "    <tr>\n",
       "      <th>...</th>\n",
       "      <td>...</td>\n",
       "      <td>...</td>\n",
       "      <td>...</td>\n",
       "      <td>...</td>\n",
       "      <td>...</td>\n",
       "      <td>...</td>\n",
       "      <td>...</td>\n",
       "      <td>...</td>\n",
       "      <td>...</td>\n",
       "      <td>...</td>\n",
       "      <td>...</td>\n",
       "      <td>...</td>\n",
       "    </tr>\n",
       "    <tr>\n",
       "      <th>1120</th>\n",
       "      <td>58988196</td>\n",
       "      <td>5</td>\n",
       "      <td>1289.000000</td>\n",
       "      <td>1</td>\n",
       "      <td>173000.0</td>\n",
       "      <td>2</td>\n",
       "      <td>15</td>\n",
       "      <td>5</td>\n",
       "      <td>112</td>\n",
       "      <td>3</td>\n",
       "      <td>350702</td>\n",
       "      <td>200.000000</td>\n",
       "    </tr>\n",
       "    <tr>\n",
       "      <th>1121</th>\n",
       "      <td>58987926</td>\n",
       "      <td>5</td>\n",
       "      <td>1283.911373</td>\n",
       "      <td>2</td>\n",
       "      <td>50000.0</td>\n",
       "      <td>2</td>\n",
       "      <td>15</td>\n",
       "      <td>5</td>\n",
       "      <td>108</td>\n",
       "      <td>4</td>\n",
       "      <td>450000</td>\n",
       "      <td>169.000000</td>\n",
       "    </tr>\n",
       "    <tr>\n",
       "      <th>1122</th>\n",
       "      <td>58995381</td>\n",
       "      <td>7</td>\n",
       "      <td>1220.000000</td>\n",
       "      <td>3</td>\n",
       "      <td>76000.0</td>\n",
       "      <td>2</td>\n",
       "      <td>11</td>\n",
       "      <td>2</td>\n",
       "      <td>90</td>\n",
       "      <td>5</td>\n",
       "      <td>71002</td>\n",
       "      <td>1.000000</td>\n",
       "    </tr>\n",
       "    <tr>\n",
       "      <th>1123</th>\n",
       "      <td>58998054</td>\n",
       "      <td>4</td>\n",
       "      <td>1250.000000</td>\n",
       "      <td>3</td>\n",
       "      <td>137000.0</td>\n",
       "      <td>2</td>\n",
       "      <td>8</td>\n",
       "      <td>5</td>\n",
       "      <td>90</td>\n",
       "      <td>5</td>\n",
       "      <td>72000</td>\n",
       "      <td>1.000000</td>\n",
       "    </tr>\n",
       "    <tr>\n",
       "      <th>1124</th>\n",
       "      <td>54989781</td>\n",
       "      <td>4</td>\n",
       "      <td>1415.000000</td>\n",
       "      <td>3</td>\n",
       "      <td>93000.0</td>\n",
       "      <td>2</td>\n",
       "      <td>8</td>\n",
       "      <td>5</td>\n",
       "      <td>113</td>\n",
       "      <td>4</td>\n",
       "      <td>151300</td>\n",
       "      <td>273.861279</td>\n",
       "    </tr>\n",
       "  </tbody>\n",
       "</table>\n",
       "<p>1125 rows × 12 columns</p>\n",
       "</div>"
      ],
      "text/plain": [
       "            id  fea_1        fea_2  fea_3     fea_4  fea_5  fea_6  fea_7  \\\n",
       "0     54982665      5  1245.500000      3   77000.0      2     15      5   \n",
       "1     59004779      4  1277.000000      1  113000.0      2      8     -1   \n",
       "2     58990862      7  1298.000000      1  110000.0      2     11     -1   \n",
       "3     58995168      7  1335.500000      1  151000.0      2     11      5   \n",
       "4     54987320      7  1283.911373      2   59000.0      2     11      5   \n",
       "...        ...    ...          ...    ...       ...    ...    ...    ...   \n",
       "1120  58988196      5  1289.000000      1  173000.0      2     15      5   \n",
       "1121  58987926      5  1283.911373      2   50000.0      2     15      5   \n",
       "1122  58995381      7  1220.000000      3   76000.0      2     11      2   \n",
       "1123  58998054      4  1250.000000      3  137000.0      2      8      5   \n",
       "1124  54989781      4  1415.000000      3   93000.0      2      8      5   \n",
       "\n",
       "      fea_8  fea_9  fea_10      fea_11  \n",
       "0       109      5  151300  244.948974  \n",
       "1       100      3  341759  207.173840  \n",
       "2       101      5   72001    1.000000  \n",
       "3       110      3   60084    1.000000  \n",
       "4       108      4  450081  197.403141  \n",
       "...     ...    ...     ...         ...  \n",
       "1120    112      3  350702  200.000000  \n",
       "1121    108      4  450000  169.000000  \n",
       "1122     90      5   71002    1.000000  \n",
       "1123     90      5   72000    1.000000  \n",
       "1124    113      4  151300  273.861279  \n",
       "\n",
       "[1125 rows x 12 columns]"
      ]
     },
     "execution_count": 32,
     "metadata": {},
     "output_type": "execute_result"
    }
   ],
   "source": [
    "X"
   ]
  },
  {
   "cell_type": "code",
   "execution_count": 33,
   "id": "a824425d",
   "metadata": {},
   "outputs": [
    {
     "data": {
      "text/plain": [
       "0       1\n",
       "1       0\n",
       "2       0\n",
       "3       1\n",
       "4       0\n",
       "       ..\n",
       "1120    0\n",
       "1121    0\n",
       "1122    0\n",
       "1123    0\n",
       "1124    0\n",
       "Name: label, Length: 1125, dtype: int64"
      ]
     },
     "execution_count": 33,
     "metadata": {},
     "output_type": "execute_result"
    }
   ],
   "source": [
    "y"
   ]
  },
  {
   "cell_type": "code",
   "execution_count": 34,
   "id": "ea0631ea",
   "metadata": {
    "scrolled": true
   },
   "outputs": [],
   "source": [
    "from sklearn.model_selection import train_test_split\n",
    "X_train, X_test, y_train, y_test = train_test_split(X, y, test_size = 0.2,\n",
    "                                                   random_state = 42,\n",
    "                                                   stratify=y)\n",
    "#%80 eğitim %20 test dengesiz ya y dengeli dağılmaya çalışsın diye stratify \n",
    "#sınıflandırma problemlerinde sınıf dengesini korumak için kullanılır. \n",
    "#genellikle modelin eğitim seti üzerinde öğrenmesi ve test seti üzerinde performansının değerlendirilmesi amacıyla kullanılır.\n",
    "#Bu, modelin genelleme yeteneğini değerlendirmek için önemlidir."
   ]
  },
  {
   "cell_type": "code",
   "execution_count": 35,
   "id": "540b706f",
   "metadata": {},
   "outputs": [
    {
     "data": {
      "text/plain": [
       "RandomForestClassifier()"
      ]
     },
     "execution_count": 35,
     "metadata": {},
     "output_type": "execute_result"
    }
   ],
   "source": [
    "from sklearn.ensemble import RandomForestClassifier\n",
    "#Bu ifade, sklearn kütüphanesindeki RandomForestClassifier sınıflandırıcı modelini içe aktarır.\n",
    "#RandomForestClassifier sınıflandırıcı modelini kullanarak bir makine öğrenimi modelini eğitiyor.\n",
    "model_rf = RandomForestClassifier()#birçok karar ağacının bir araya getirilerek oluşturulan bir orman modelidir.\n",
    "model_rf.fit(X_train, y_train)\n"
   ]
  },
  {
   "cell_type": "code",
   "execution_count": 37,
   "id": "f9575703",
   "metadata": {
    "scrolled": true
   },
   "outputs": [
    {
     "name": "stdout",
     "output_type": "stream",
     "text": [
      "              precision    recall  f1-score   support\n",
      "\n",
      "           0       0.80      0.98      0.89       180\n",
      "           1       0.40      0.04      0.08        45\n",
      "\n",
      "    accuracy                           0.80       225\n",
      "   macro avg       0.60      0.51      0.48       225\n",
      "weighted avg       0.72      0.80      0.72       225\n",
      "\n"
     ]
    }
   ],
   "source": [
    "from sklearn.metrics import classification_report, confusion_matrix\n",
    "\n",
    "print(classification_report(y_test, model_rf.predict(X_test)))\n",
    "#karmaşıklık matrisi confusion_matris"
   ]
  },
  {
   "cell_type": "code",
   "execution_count": 38,
   "id": "a420233d",
   "metadata": {},
   "outputs": [
    {
     "data": {
      "text/plain": [
       "<AxesSubplot:>"
      ]
     },
     "execution_count": 38,
     "metadata": {},
     "output_type": "execute_result"
    },
    {
     "data": {
      "image/png": "[encoded data removed]",
      "text/plain": [
       "<Figure size 432x288 with 2 Axes>"
      ]
     },
     "metadata": {
      "needs_background": "light"
     },
     "output_type": "display_data"
    }
   ],
   "source": [
    "sns.heatmap(confusion_matrix(y_test, model_rf.predict(X_test)),\n",
    "           annot= True, fmt=\".1f\")\n",
    "#modelde 0 da 43 se predicte 177 tane 175 tane veri doğrı 55 tanesi yanlış"
   ]
  },
  {
   "cell_type": "code",
   "execution_count": 39,
   "id": "38381c11",
   "metadata": {},
   "outputs": [],
   "source": [
    "#tn fn\n",
    "#fb tp "
   ]
  },
  {
   "cell_type": "code",
   "execution_count": 41,
   "id": "3e63944a",
   "metadata": {},
   "outputs": [
    {
     "data": {
      "text/plain": [
       "DecisionTreeClassifier()"
      ]
     },
     "execution_count": 41,
     "metadata": {},
     "output_type": "execute_result"
    }
   ],
   "source": [
    "from sklearn.tree import DecisionTreeClassifier \n",
    "\n",
    "model_tree = DecisionTreeClassifier()\n",
    "model_tree.fit(X_train, y_train)"
   ]
  },
  {
   "cell_type": "code",
   "execution_count": 42,
   "id": "9cc86155",
   "metadata": {},
   "outputs": [
    {
     "name": "stdout",
     "output_type": "stream",
     "text": [
      "              precision    recall  f1-score   support\n",
      "\n",
      "           0       0.80      0.76      0.78       180\n",
      "           1       0.20      0.24      0.22        45\n",
      "\n",
      "    accuracy                           0.66       225\n",
      "   macro avg       0.50      0.50      0.50       225\n",
      "weighted avg       0.68      0.66      0.67       225\n",
      "\n"
     ]
    }
   ],
   "source": [
    "print(classification_report(y_test, model_tree.predict(X_test)))"
   ]
  },
  {
   "cell_type": "code",
   "execution_count": null,
   "id": "54567f38",
   "metadata": {},
   "outputs": [],
   "source": [
    "#randomforest daha iyi sonuç verdi"
   ]
  },
  {
   "cell_type": "code",
   "execution_count": 43,
   "id": "4b5d9a4d",
   "metadata": {},
   "outputs": [],
   "source": [
    "from imblearn.over_sampling import RandomOverSampler\n",
    "#sınıf dengesizliği sorunuyla başa çıkmak için kullanılan bir örnekleme (oversampling) tekniğidir.\n",
    "\n",
    "#Sınıf dengesizliği, bir sınıfın diğerine göre çok daha fazla örneğe sahip olması durumudur. "
   ]
  },
  {
   "cell_type": "code",
   "execution_count": 45,
   "id": "c2ebc7c1",
   "metadata": {},
   "outputs": [],
   "source": [
    "sampler = RandomOverSampler()# tüm sınıfların örnek sayısını eşitlemek için tasarlanmıştır.\n",
    "X_new, y_new = sampler.fit_resample(X,y)#örnek içeren sınıfların örnek sayısını artırırken, çok örnek içeren sınıfları değiştirmez."
   ]
  },
  {
   "cell_type": "code",
   "execution_count": 46,
   "id": "328cda6e",
   "metadata": {},
   "outputs": [
    {
     "data": {
      "text/plain": [
       "1    900\n",
       "0    900\n",
       "Name: label, dtype: int64"
      ]
     },
     "execution_count": 46,
     "metadata": {},
     "output_type": "execute_result"
    }
   ],
   "source": [
    "y_new.value_counts()\n",
    "#rastgele olarak verileri oluşturdu artık iki sınıftanda eşit sayıda veriler var"
   ]
  },
  {
   "cell_type": "code",
   "execution_count": 49,
   "id": "20d33485",
   "metadata": {},
   "outputs": [],
   "source": [
    "X_newtr, X_newts, y_newtr, y_newts = train_test_split(X_new, y_new, test_size = 0.2,\n",
    "                                                   random_state = 42)"
   ]
  },
  {
   "cell_type": "code",
   "execution_count": 50,
   "id": "db84d8ea",
   "metadata": {},
   "outputs": [
    {
     "data": {
      "text/plain": [
       "RandomForestClassifier()"
      ]
     },
     "execution_count": 50,
     "metadata": {},
     "output_type": "execute_result"
    }
   ],
   "source": [
    "model_rfn = RandomForestClassifier()\n",
    "model_rfn.fit(X_newtr, y_newtr)\n",
    "#Bu model, eğitildikten sonra, yeni veri setindeki örnekleri sınıflandırma yeteneğine sahip olacaktır"
   ]
  },
  {
   "cell_type": "code",
   "execution_count": 51,
   "id": "5d3fdf0c",
   "metadata": {},
   "outputs": [
    {
     "name": "stdout",
     "output_type": "stream",
     "text": [
      "              precision    recall  f1-score   support\n",
      "\n",
      "           0       0.95      0.89      0.92       176\n",
      "           1       0.90      0.96      0.93       184\n",
      "\n",
      "    accuracy                           0.92       360\n",
      "   macro avg       0.92      0.92      0.92       360\n",
      "weighted avg       0.92      0.92      0.92       360\n",
      "\n"
     ]
    }
   ],
   "source": [
    "print(classification_report(y_newts, model_rfn.predict(X_newts)))\n",
    "#elimizde dengeli bir veri seti varsa başarı oranımız daha yüksektir.\n",
    "#aşağıdakilerin nasıl hesaplandığına bak"
   ]
  },
  {
   "cell_type": "code",
   "execution_count": null,
   "id": "2e2a1c17",
   "metadata": {},
   "outputs": [],
   "source": []
  },
  {
   "cell_type": "code",
   "execution_count": null,
   "id": "9e741f10",
   "metadata": {},
   "outputs": [],
   "source": []
  }
 ],
 "metadata": {
  "kernelspec": {
   "display_name": "Python 3 (ipykernel)",
   "language": "python",
   "name": "python3"
  },
  "language_info": {
   "codemirror_mode": {
    "name": "ipython",
    "version": 3
   },
   "file_extension": ".py",
   "mimetype": "text/x-python",
   "name": "python",
   "nbconvert_exporter": "python",
   "pygments_lexer": "ipython3",
   "version": "3.9.12"
  }
 },
 "nbformat": 4,
 "nbformat_minor": 5
}
